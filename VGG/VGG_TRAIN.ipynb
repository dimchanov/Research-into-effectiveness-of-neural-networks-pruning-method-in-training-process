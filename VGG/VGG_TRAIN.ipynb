{
  "cells": [
    {
      "cell_type": "code",
      "execution_count": null,
      "metadata": {
        "id": "-qjJ8N5_UcS3"
      },
      "outputs": [],
      "source": [
        "import numpy as np\n",
        "import pandas as pd\n",
        "import plotly.express as px\n",
        "import torch\n",
        "import tqdm.notebook as tqdm\n",
        "import random\n",
        "import math\n",
        "from functools import partial\n",
        "\n",
        "from collections import OrderedDict\n",
        "\n",
        "\n",
        "import matplotlib.pyplot as plt\n",
        "%matplotlib inline\n",
        "\n",
        "def set_global_seed(seed: int) -> None:\n",
        "    \"\"\"\n",
        "    Set global seed for reproducibility.\n",
        "    \"\"\"\n",
        "\n",
        "    random.seed(seed)\n",
        "    np.random.seed(seed)\n",
        "    torch.manual_seed(seed)\n",
        "    torch.cuda.manual_seed_all(seed)\n",
        "    torch.backends.cudnn.benchmark = False\n",
        "    torch.backends.cudnn.deterministic = True\n",
        "\n",
        "set_global_seed(42)"
      ]
    },
    {
      "attachments": {},
      "cell_type": "markdown",
      "metadata": {
        "id": "UMMwxhvpU-12"
      },
      "source": [
        "## Загрузка и обработка данных"
      ]
    },
    {
      "cell_type": "code",
      "execution_count": null,
      "metadata": {
        "id": "oWb899VkUdI8"
      },
      "outputs": [],
      "source": [
        "import torchvision\n"
      ]
    },
    {
      "cell_type": "code",
      "execution_count": null,
      "metadata": {
        "id": "qOqJYBz4UdLT"
      },
      "outputs": [],
      "source": [
        "transform = torchvision.transforms.Compose([\n",
        "    torchvision.transforms.RandomHorizontalFlip(),\n",
        "    torchvision.transforms.RandomCrop(32, 4),\n",
        "    torchvision.transforms.ToTensor(),\n",
        "    torchvision.transforms.Normalize(\n",
        "        mean=[0.485, 0.456, 0.406],\n",
        "        std=[0.229, 0.224, 0.225]\n",
        "    )\n",
        "])"
      ]
    },
    {
      "cell_type": "code",
      "execution_count": null,
      "metadata": {
        "id": "Mz4QEgy9VHe4"
      },
      "outputs": [],
      "source": [
        "ds_train = torchvision.datasets.CIFAR10(\n",
        "    root='./', train=True, transform=transform, download=True\n",
        ")\n",
        "ds_test = torchvision.datasets.CIFAR10(\n",
        "    root='./', train=False,\n",
        "    transform=torchvision.transforms.Compose([\n",
        "    torchvision.transforms.ToTensor(),\n",
        "    torchvision.transforms.Normalize(\n",
        "        mean=[0.485, 0.456, 0.406],\n",
        "        std=[0.229, 0.224, 0.225]\n",
        "    )]),\n",
        "    download=True\n",
        ")\n",
        "ds_train, ds_test"
      ]
    },
    {
      "attachments": {},
      "cell_type": "markdown",
      "metadata": {
        "id": "f8gGklL4WjLX"
      },
      "source": [
        "Transfom to PIL image"
      ]
    },
    {
      "cell_type": "code",
      "execution_count": null,
      "metadata": {
        "id": "521NbBfAWo36"
      },
      "outputs": [],
      "source": [
        "tmean, tstd = transform.transforms[-1].mean, transform.transforms[-1].std\n",
        "tmean, tstd = np.array(tmean), np.array(tstd)\n",
        "\n",
        "inverse_transform = torchvision.transforms.Compose([\n",
        "    torchvision.transforms.Normalize(\n",
        "        mean=-tmean / tstd,\n",
        "        std=1.0 / tstd\n",
        "    ),\n",
        "    torchvision.transforms.ToPILImage()\n",
        "])"
      ]
    },
    {
      "cell_type": "code",
      "execution_count": null,
      "metadata": {
        "id": "JzfxJd-kUdN-"
      },
      "outputs": [],
      "source": [
        "fig, axes = plt.subplots(2, 5, figsize=(13, 6))\n",
        "\n",
        "for idx, ds in enumerate((ds_train, ds_test)):\n",
        "    for jdx, kdx in enumerate(np.random.randint(0, len(ds), size=5)):\n",
        "        image, label = ds[kdx]\n",
        "        axes[idx, jdx].imshow(inverse_transform(image))\n",
        "        axes[idx, jdx].set_title(f'Метка: {label} -> {ds.classes[label]}')\n",
        "\n",
        "axes[0, 0].set_ylabel('Обучающая выборка')\n",
        "axes[1, 0].set_ylabel('Тестовая выборка')\n",
        "\n",
        "fig.tight_layout()\n",
        "plt.show()"
      ]
    },
    {
      "cell_type": "code",
      "execution_count": null,
      "metadata": {
        "id": "dVu093cuYbhJ"
      },
      "outputs": [],
      "source": [
        "BATCH_SIZE = 128\n",
        "DEVICE = torch.device('cpu')\n",
        "if torch.cuda.is_available():\n",
        "    DEVICE = torch.device('cuda', 0)\n",
        "\n",
        "print(type(DEVICE), DEVICE)"
      ]
    },
    {
      "cell_type": "code",
      "execution_count": null,
      "metadata": {
        "id": "CDL5sxK5UdP9"
      },
      "outputs": [],
      "source": [
        "dl_train = torch.utils.data.DataLoader(\n",
        "    dataset=ds_train, batch_size=BATCH_SIZE,\n",
        "    num_workers=2, shuffle=True\n",
        ")\n",
        "dl_test = torch.utils.data.DataLoader(\n",
        "    dataset=ds_test, batch_size=BATCH_SIZE,\n",
        "    num_workers=2, shuffle=False\n",
        ")"
      ]
    },
    {
      "cell_type": "code",
      "execution_count": null,
      "metadata": {
        "id": "hRqhqVyXUdSS"
      },
      "outputs": [],
      "source": [
        "class ConvNet(torch.nn.Module):\n",
        "    cfg = [64, 64, 'M', 128, 128, 'M', 256, 256, 256, 'M', 512, 512, 512, 'M', 512, 512, 512, 'M']\n",
        "\n",
        "    def __init__(self, n_classes=10, use_batchnorm=False, dropout_p=0.0):\n",
        "        '''\n",
        "        :param int n_classes: Число выходных признаков\n",
        "        :param bool use_batchnorm: Использовать ли батчнорм между свёрточными слоями\n",
        "        :param float dropout_p: Вероятность обнуления активации слоем Dropout\n",
        "        '''\n",
        "        super().__init__()\n",
        "\n",
        "        self.n_classes = n_classes\n",
        "\n",
        "        ### your code here\n",
        "        self.in_channels = 3\n",
        "        self.features = torch.nn.Sequential()\n",
        "        for cfg_item in self.cfg:\n",
        "            if isinstance(cfg_item, int):\n",
        "                self.features.append(torch.nn.Conv2d(self.in_channels,\n",
        "                                                     out_channels=int(cfg_item),\n",
        "                                                     kernel_size=3,\n",
        "                                                     padding=1))\n",
        "                if use_batchnorm:\n",
        "                    self.features.append(torch.nn.BatchNorm2d(int(cfg_item)))\n",
        "                self.features.append(torch.nn.ReLU(inplace=True))\n",
        "                self.in_channels = int(cfg_item)\n",
        "            elif cfg_item == \"M\":\n",
        "                self.features.append(torch.nn.MaxPool2d(kernel_size=(2, 2), stride=2))\n",
        "\n",
        "        # self.avgpool = torch.nn.AdaptiveAvgPool2d(output_size=(2, 2))\n",
        "        self.classifier = torch.nn.Sequential(\n",
        "            torch.nn.Linear(in_features=512, out_features=512),\n",
        "            torch.nn.ReLU(inplace=True),\n",
        "            torch.nn.Dropout(p=dropout_p),\n",
        "            torch.nn.Linear(in_features=512, out_features=512),\n",
        "            torch.nn.ReLU(inplace=True),\n",
        "            torch.nn.Dropout(p=dropout_p),\n",
        "            torch.nn.Linear(in_features=512, out_features=10)\n",
        "        )\n",
        "        for m in self.modules():\n",
        "            if isinstance(m, torch.nn.Conv2d):\n",
        "                n = m.kernel_size[0] * m.kernel_size[1] * m.out_channels\n",
        "                m.weight.data.normal_(0, math.sqrt(2. / n))\n",
        "                m.bias.data.zero_()\n",
        "\n",
        "\n",
        "\n",
        "    def forward(self, x: torch.Tensor) -> torch.Tensor:\n",
        "        x = self.features(x)\n",
        "        # x = self.avgpool(x)\n",
        "        x = x.view(x.size(0), -1)\n",
        "        x = self.classifier(x)\n",
        "        return x\n"
      ]
    },
    {
      "cell_type": "code",
      "execution_count": null,
      "metadata": {
        "id": "GYH0RTlnRNKV"
      },
      "outputs": [],
      "source": [
        "def test_model(model, train_dataloader) -> float:\n",
        "    model.to(DEVICE)\n",
        "    model.eval()\n",
        "    with torch.no_grad():\n",
        "        train_accuracies = []\n",
        "        for images, labels in tqdm.tqdm(train_dataloader, total=len(train_dataloader), leave=False):\n",
        "            images = images.to(DEVICE)\n",
        "            labels = labels.to(DEVICE)\n",
        "            outputs  = model(images)\n",
        "            train_accuracies.append(torch.sum(outputs.argmax(dim=1) == labels)/labels.shape[0])\n",
        "        return float((sum(train_accuracies) / len(train_accuracies)).cpu() * 100)"
      ]
    },
    {
      "cell_type": "code",
      "execution_count": null,
      "metadata": {
        "id": "OsLB8t7LRO6X"
      },
      "outputs": [],
      "source": [
        "test_conv_net = ConvNet()\n",
        "test_conv_net.load_state_dict(torch.load(GLOBAL_PATH + 'Models/VGG_09.11.2022-16:50.pth', map_location=DEVICE))\n",
        "test_model(test_conv_net, dl_test)"
      ]
    },
    {
      "cell_type": "code",
      "execution_count": null,
      "metadata": {
        "id": "eIH8jVk_UdU4"
      },
      "outputs": [],
      "source": [
        "import tqdm.notebook as tqdm\n",
        "from functools import partial"
      ]
    },
    {
      "cell_type": "code",
      "execution_count": null,
      "metadata": {
        "id": "OJ_3Rl4hUdXi"
      },
      "outputs": [],
      "source": [
        "def training_loop(n_epochs, network, loss_fn, optimizer,scheduler, dl_train, dl_test, device):\n",
        "    '''\n",
        "    :param int n_epochs: Число итераций оптимизации\n",
        "    :param torch.nn.Module network: Нейронная сеть\n",
        "    :param Callable loss_fn: Функция потерь\n",
        "    :param torch.nn.Optimizer optimizer: Оптимизатор\n",
        "    :param torch.utils.data.DataLoader dl_train: Даталоадер для обучающей выборки\n",
        "    :param torch.utils.data.DataLoader dl_test: Даталоадер для тестовой выборки\n",
        "    :param torch.device device: Устройство на котором будут происходить вычисления\n",
        "    :returns: Списки значений функции потерь и точности на обучающей и тестовой выборках после каждой итерации\n",
        "    '''\n",
        "    loss_fn.to(device)\n",
        "    train_losses, test_losses, train_accuracies, test_accuracies = [], [], [], []\n",
        "    pbar = tqdm.tqdm(range(n_epochs), total=n_epochs, leave=False)\n",
        "    for epoch in (pbar):\n",
        "\n",
        "        # Итерация обучения сети\n",
        "        for images, labels in tqdm.tqdm(dl_train, total=len(dl_train), leave=False):\n",
        "            images = images.to(device)\n",
        "            labels = labels.to(device)\n",
        "\n",
        "            optimizer.zero_grad()\n",
        "            loss = loss_fn(network(images), labels)\n",
        "            loss.backward()\n",
        "            optimizer.step()\n",
        "            scheduler.step()\n",
        "\n",
        "\n",
        "        # Оцениваем качество модели каждые 3 итерации\n",
        "        if epoch % 3 == 0 or epoch == n_epochs - 1:\n",
        "            # Переводим сеть в инференс режим\n",
        "            network.eval()\n",
        "\n",
        "            # При тестировании сети нет необходимости считать градиенты, поэтому можно отключить автоматическое дифференцирование\n",
        "            #   для ускорения операций\n",
        "            with torch.no_grad():\n",
        "                # Вычисление качества и функции потерь на обучающей выборке\n",
        "                tmp_train_losses, tmp_train_accuracies = [], []\n",
        "                for images, labels in tqdm.tqdm(dl_train, total=len(dl_train), leave=False):\n",
        "                    images = images.to(device)\n",
        "                    labels = labels.to(device)\n",
        "\n",
        "                    outputs  = network(images)\n",
        "\n",
        "                    tmp_train_losses.append(loss_fn(outputs, labels))\n",
        "                    tmp_train_accuracies.append(torch.sum(outputs.argmax(dim=1) == labels)/labels.shape[0])\n",
        "\n",
        "                train_losses.append((sum(tmp_train_losses) / len(tmp_train_losses)).cpu())\n",
        "                train_accuracies.append((sum(tmp_train_accuracies) / len(tmp_train_accuracies)).cpu() * 100)\n",
        "                # Вычисление качества и функции потерь на тестовой выборке\n",
        "                tmp_test_losses, tmp_test_accuracies = [], []\n",
        "                for images, labels in tqdm.tqdm(dl_test, total=len(dl_test), leave=False):\n",
        "                    images = images.to(device)\n",
        "                    labels = labels.to(device)\n",
        "\n",
        "                    outputs  = network(images)\n",
        "\n",
        "                    tmp_test_losses.append(loss_fn(outputs, labels))\n",
        "                    tmp_test_accuracies.append(torch.sum(outputs.argmax(dim=1) == labels)/labels.shape[0])\n",
        "\n",
        "                test_losses.append((sum(tmp_test_losses) / len(tmp_test_losses)).cpu())\n",
        "                test_accuracies.append((sum(tmp_test_accuracies) / len(tmp_test_accuracies)).cpu() * 100)\n",
        "\n",
        "            pbar.set_description(\n",
        "                'Loss (Train/Test): {0:.3f}/{1:.3f}. Accuracy, % (Train/Test): {2:.2f}/{3:.2f}\\n'.format(\n",
        "                    train_losses[-1], test_losses[-1], train_accuracies[-1], test_accuracies[-1]\n",
        "                )\n",
        "            )\n",
        "\n",
        "    return train_losses, test_losses, train_accuracies, test_accuracies"
      ]
    },
    {
      "cell_type": "code",
      "execution_count": null,
      "metadata": {
        "id": "6xw4nd0QnZ3j"
      },
      "outputs": [],
      "source": [
        "train_func = partial(\n",
        "    training_loop, n_epochs=70, loss_fn=torch.nn.CrossEntropyLoss(),\n",
        "    dl_train=dl_train, dl_test=dl_test, device=DEVICE\n",
        ")"
      ]
    },
    {
      "cell_type": "code",
      "execution_count": null,
      "metadata": {
        "id": "TfA_necuo5I6"
      },
      "outputs": [],
      "source": [
        "conv_net = ConvNet()\n",
        "conv_net.to(DEVICE)"
      ]
    },
    {
      "cell_type": "code",
      "execution_count": null,
      "metadata": {
        "id": "90mXghy6s2_4"
      },
      "outputs": [],
      "source": [
        "optimizer = torch.optim.SGD(conv_net.parameters(), lr=0.05, momentum=0.9, weight_decay=5e-4)\n",
        "scheduler = torch.optim.lr_scheduler.StepLR(optimizer, step_size=1000, gamma=0.9)"
      ]
    },
    {
      "cell_type": "code",
      "execution_count": null,
      "metadata": {
        "id": "oExMOCiWnZ6S"
      },
      "outputs": [],
      "source": [
        "train_losses, test_losses, train_accs, test_accs = train_func(\n",
        "    network=conv_net,\n",
        "    optimizer=optimizer,\n",
        "    scheduler=scheduler\n",
        ")"
      ]
    },
    {
      "cell_type": "code",
      "execution_count": null,
      "metadata": {
        "id": "ZihuBo2XZPSw"
      },
      "outputs": [],
      "source": [
        "import time\n",
        "torch.save(conv_net.state_dict(), GLOBAL_PATH + f'Models/VGG_{time.strftime(\"%d.%m.%Y-%H:%M\")}.pth')"
      ]
    },
    {
      "cell_type": "code",
      "execution_count": null,
      "metadata": {
        "id": "TMTli1qunZ9Z"
      },
      "outputs": [],
      "source": [
        "fig, ax = plt.subplots(1, 1, figsize=(10, 5))\n",
        "ax.plot(np.arange(len(train_accs)) * 3, train_accs, label=\"Точность на обучении\", color='red', marker='.', linestyle='-.')\n",
        "ax.plot(np.arange(len(test_accs)) * 3, test_accs, label=\"Точность на тесте\", color='red', marker='*')\n",
        "\n",
        "ax.set_xlabel(\"Номер эпохи\")\n",
        "ax.set_ylabel(\"$\\%$\")\n",
        "\n",
        "ax.grid(True)\n",
        "ax.legend()\n",
        "\n",
        "fig.tight_layout()\n",
        "plt.show()"
      ]
    },
    {
      "cell_type": "code",
      "execution_count": null,
      "metadata": {
        "id": "pQ476JHvdQCq"
      },
      "outputs": [],
      "source": [
        "np.save(GLOBAL_PATH + f'/VGG_train_accuracy_{time.strftime(\"%d.%m.%Y-%H:%M\")}.npy', train_accs)\n",
        "np.save(GLOBAL_PATH + f'/VGG_test_accuracy_{time.strftime(\"%d.%m.%Y-%H:%M\")}.npy', test_accs)"
      ]
    },
    {
      "cell_type": "code",
      "execution_count": null,
      "metadata": {
        "id": "hSYgSXxIeEi5"
      },
      "outputs": [],
      "source": [
        "with open(GLOBAL_PATH + f'/VGG_train_accuracy_21.04.2023-11:02.npy', 'rb') as f:\n",
        "    a = np.load(f)\n",
        "with open(GLOBAL_PATH + f'/VGG_test_accuracy_21.04.2023-11:02.npy', 'rb') as f:\n",
        "    b = np.load(f)\n",
        "\n",
        "fig, ax = plt.subplots(1, 1, figsize=(10, 5))\n",
        "ax.plot(np.arange(len(a)) * 3, a, label=\"Точность на обучении\", color='red', marker='.', linestyle='-.')\n",
        "ax.plot(np.arange(len(b)) * 3, b, label=\"Точность на тесте\", color='red', marker='*')\n",
        "\n",
        "ax.set_xlabel(\"Номер эпохи\")\n",
        "ax.set_ylabel(\"$\\%$\")\n",
        "\n",
        "ax.grid(True)\n",
        "ax.legend()\n",
        "\n",
        "fig.tight_layout()\n",
        "plt.show()"
      ]
    },
    {
      "cell_type": "code",
      "execution_count": null,
      "metadata": {
        "id": "Xi-2Xx7_RteG"
      },
      "outputs": [],
      "source": [
        "df_plot = pd.concat([pd.DataFrame({'accuracy, %': train_accs}),\n",
        "                     pd.DataFrame({'accuracy, %': test_accs})\n",
        "                    ],\n",
        "                    keys=['Точность на обучении', 'Точность на тесте'])\n",
        "x = [list(np.arange(len(train_accs)) * 3) * 2]\n",
        "df_plot.reset_index(inplace=True)\n",
        "df_plot.set_index(x, inplace=True)\n",
        "df_plot.reset_index(inplace=True)"
      ]
    },
    {
      "cell_type": "code",
      "execution_count": null,
      "metadata": {
        "id": "cn4hzDG3SRZV"
      },
      "outputs": [],
      "source": [
        "fig = px.line(df_plot, x='level_1', y=\"accuracy, %\", color='level_0')\n",
        "fig.show()"
      ]
    },
    {
      "cell_type": "code",
      "execution_count": null,
      "metadata": {
        "id": "zz66qEYQUdev"
      },
      "outputs": [],
      "source": []
    }
  ],
  "metadata": {
    "accelerator": "GPU",
    "colab": {
      "provenance": []
    },
    "gpuClass": "standard",
    "kernelspec": {
      "display_name": "Python 3",
      "name": "python3"
    },
    "language_info": {
      "name": "python"
    }
  },
  "nbformat": 4,
  "nbformat_minor": 0
}
